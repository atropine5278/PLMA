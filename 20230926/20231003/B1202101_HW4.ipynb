{
  "nbformat": 4,
  "nbformat_minor": 0,
  "metadata": {
    "colab": {
      "provenance": []
    },
    "kernelspec": {
      "name": "python3",
      "display_name": "Python 3"
    },
    "language_info": {
      "name": "python"
    }
  },
  "cells": [
    {
      "cell_type": "code",
      "source": [
        "a = (input('enter a list:')).split()\n",
        "for i in range(0,5):\n",
        "    a[i] = int(a[i])\n",
        "a = sorted(a)\n",
        "del a[0]\n",
        "del a[3]\n",
        "print((a[0]+a[1]+a[2])/3)"
      ],
      "metadata": {
        "colab": {
          "base_uri": "https://localhost:8080/"
        },
        "id": "LnJHIjs53_0Q",
        "outputId": "2db22cda-e913-4125-aaaf-b39ed5024502"
      },
      "execution_count": 5,
      "outputs": [
        {
          "output_type": "stream",
          "name": "stdout",
          "text": [
            "enter a list:100 90 80 70 60\n",
            "80.0\n"
          ]
        }
      ]
    },
    {
      "cell_type": "code",
      "execution_count": 14,
      "metadata": {
        "colab": {
          "base_uri": "https://localhost:8080/"
        },
        "id": "0a5OHQaBRGBx",
        "outputId": "dd935748-3661-4761-81d0-897a9c1b2d5c"
      },
      "outputs": [
        {
          "output_type": "stream",
          "name": "stdout",
          "text": [
            "請輸入第一個數字:12\n",
            "請輸入運算符號: /\n",
            "請輸入第二個數字: 3\n",
            "4.0\n"
          ]
        }
      ],
      "source": [
        "num1 = float(input(\"請輸入第一個數字:\"))\n",
        "op = input(\"請輸入運算符號: \")\n",
        "num2 = float(input(\"請輸入第二個數字: \"))\n",
        "if op ==\"＋\":\n",
        "    print(num1+num2)\n",
        "elif op ==\"-\":\n",
        "    print(num1-num2)\n",
        "elif op ==\"*\":\n",
        "    print(num1*num2)\n",
        "elif op ==\"/\":\n",
        "    print(num1/num2)\n",
        "else :\n",
        "    print('不支援的計算')"
      ]
    },
    {
      "cell_type": "code",
      "source": [
        "a = float(input(\"enter a year: \"))\n",
        "if a >1852:\n",
        "    if a%4  == 0:\n",
        "      if a%100  == 0:\n",
        "        if a%400  == 0:\n",
        "           print('閏年')\n",
        "        else:\n",
        "           print('平年')\n",
        "      else:\n",
        "         print('潤年')\n",
        "    else:\n",
        "        print('平年')\n",
        "else:\n",
        "    if  a%4 == 0:\n",
        "        print('閏年')\n",
        "    else:\n",
        "        print('平年')"
      ],
      "metadata": {
        "colab": {
          "base_uri": "https://localhost:8080/"
        },
        "id": "Q4-E_-hn52Kx",
        "outputId": "64a99bad-ed88-434b-feb7-a5934f6ed0eb"
      },
      "execution_count": 10,
      "outputs": [
        {
          "output_type": "stream",
          "name": "stdout",
          "text": [
            "enter a year: 2000\n",
            "閏年\n"
          ]
        }
      ]
    }
  ]
}