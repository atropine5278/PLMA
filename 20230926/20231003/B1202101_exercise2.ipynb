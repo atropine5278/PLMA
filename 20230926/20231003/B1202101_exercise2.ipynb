{
  "nbformat": 4,
  "nbformat_minor": 0,
  "metadata": {
    "colab": {
      "provenance": []
    },
    "kernelspec": {
      "name": "python3",
      "display_name": "Python 3"
    },
    "language_info": {
      "name": "python"
    }
  },
  "cells": [
    {
      "cell_type": "code",
      "execution_count": 5,
      "metadata": {
        "colab": {
          "base_uri": "https://localhost:8080/"
        },
        "id": "1LTtgshCYPLQ",
        "outputId": "6325565a-dab8-482b-94a6-164370fe77e4"
      },
      "outputs": [
        {
          "output_type": "stream",
          "name": "stdout",
          "text": [
            "A\n",
            "['K', 'H', 'U']\n"
          ]
        }
      ],
      "source": [
        "a = 'C,B,A'\n",
        "b = ['F','G','H']\n",
        "a = a.split(',')\n",
        "a += b\n",
        "a[0] = 'K'\n",
        "print(a.pop(2))\n",
        "del a[1:4]\n",
        "a.append('U')\n",
        "print (a)\n"
      ]
    },
    {
      "cell_type": "code",
      "source": [
        "a =float(input('enter height: '))\n",
        "b =float(input('enter weight: '))\n",
        "bmi = b/(a**2)\n",
        "print('bmi: '+ str(bmi))\n",
        "if bmi>=27:\n",
        "   print('體位: 肥胖')\n",
        "elif bmi>=24 and bmi<=27:\n",
        "   print('體位: 過重')\n",
        "elif bmi>=18.5 and bmi<=24:\n",
        "   print('體位: 適中')\n",
        "else:\n",
        "   print('體位: 過輕')"
      ],
      "metadata": {
        "colab": {
          "base_uri": "https://localhost:8080/"
        },
        "id": "TuT_689IlyKs",
        "outputId": "a157140a-d5e5-495f-fff5-fdacec6b6492"
      },
      "execution_count": 13,
      "outputs": [
        {
          "output_type": "stream",
          "name": "stdout",
          "text": [
            "enter height: 1.8\n",
            "enter weight: 65\n",
            "bmi: 20.061728395061728\n",
            "體位: 適中\n"
          ]
        }
      ]
    }
  ]
}