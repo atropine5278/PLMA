{
  "nbformat": 4,
  "nbformat_minor": 0,
  "metadata": {
    "colab": {
      "provenance": []
    },
    "kernelspec": {
      "name": "python3",
      "display_name": "Python 3"
    },
    "language_info": {
      "name": "python"
    }
  },
  "cells": [
    {
      "cell_type": "code",
      "execution_count": null,
      "metadata": {
        "colab": {
          "base_uri": "https://localhost:8080/"
        },
        "id": "QpVxAMoixkNQ",
        "outputId": "8dd46a20-8d44-43f9-f590-56e706ca4d99"
      },
      "outputs": [
        {
          "output_type": "stream",
          "name": "stdout",
          "text": [
            "          *\n",
            "         ***\n",
            "        *****\n",
            "       *******\n",
            "      *********\n",
            "     ***********\n",
            "    *************\n",
            "   ***************\n",
            "  *****************\n",
            " *******************\n",
            "        ****\n",
            "        ****\n",
            "        ****\n"
          ]
        }
      ],
      "source": [
        "stars = 1\n",
        "width = 10\n",
        "tree = 3\n",
        "\n",
        "for i in range(width):\n",
        "   print((' ' * (width - i)) + ('*' * stars))\n",
        "   stars += 2\n",
        "\n",
        "for i in range(tree):\n",
        "    print((' ' * (width-2)) + '*' * 4)"
      ]
    },
    {
      "cell_type": "code",
      "source": [
        "import random\n",
        "answer = random.sample(range(1, 10), 4)\n",
        "print(answer)\n",
        "a = b = c = d = 0\n",
        "while a!=4:\n",
        "    a = b = c = 0\n",
        "    e = list(input('輸入四個數字：'))\n",
        "    if len(e)==4:\n",
        "       for i in e:\n",
        "          if int(e[c]) == answer[c]:\n",
        "            a += 1\n",
        "          else:\n",
        "            if int(e[c]) in answer:\n",
        "                b += 1\n",
        "          c += 1\n",
        "       print(str(a)+'A'+str(b)+'B')\n",
        "       d += 1\n",
        "    else:\n",
        "      print('4 numbers!')\n",
        "      continue\n",
        "print('答對了！')\n",
        "print('guess'+str(d)+' times')"
      ],
      "metadata": {
        "colab": {
          "base_uri": "https://localhost:8080/"
        },
        "id": "Kn9rmpIUxxRI",
        "outputId": "63c08804-b5de-4d30-8fc0-c2b6b9f0b706"
      },
      "execution_count": null,
      "outputs": [
        {
          "output_type": "stream",
          "name": "stdout",
          "text": [
            "[3, 7, 8, 6]\n",
            "輸入四個數字：278\n",
            "4 numbers!\n",
            "輸入四個數字：7839\n",
            "0A3B\n",
            "輸入四個數字：3786\n",
            "4A0B\n",
            "答對了！\n",
            "guess2 times\n"
          ]
        }
      ]
    }
  ]
}