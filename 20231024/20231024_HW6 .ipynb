{
  "nbformat": 4,
  "nbformat_minor": 0,
  "metadata": {
    "colab": {
      "provenance": []
    },
    "kernelspec": {
      "name": "python3",
      "display_name": "Python 3"
    },
    "language_info": {
      "name": "python"
    }
  },
  "cells": [
    {
      "cell_type": "code",
      "source": [
        "def draw_christmas_tree_with_trunk(layers):\n",
        "    for i in range(1, layers + 1):\n",
        "        spaces = \" \" * (layers - i)\n",
        "        stars = \"*\" * (2 * i - 1)\n",
        "        print(spaces + stars)\n",
        "\n",
        "    trunk_spaces = \" \" * int((layers*2-3)/2)\n",
        "    for i in range(5):\n",
        "      print(trunk_spaces + \"*\"*3+trunk_spaces)\n",
        "\n",
        "def main():\n",
        "    tree_layers = int(input(\"請輸入聖誕樹層數: \"))\n",
        "    draw_christmas_tree_with_trunk(tree_layers)\n",
        "\n",
        "if __name__ == \"__main__\":\n",
        "    main()"
      ],
      "metadata": {
        "colab": {
          "base_uri": "https://localhost:8080/"
        },
        "id": "RLHSoH-qI2fD",
        "outputId": "e4b87e96-7987-4ec8-a534-76eaf5d4cf31"
      },
      "execution_count": 38,
      "outputs": [
        {
          "output_type": "stream",
          "name": "stdout",
          "text": [
            "請輸入聖誕樹層數: 10\n",
            "         *\n",
            "        ***\n",
            "       *****\n",
            "      *******\n",
            "     *********\n",
            "    ***********\n",
            "   *************\n",
            "  ***************\n",
            " *****************\n",
            "*******************\n",
            "        ***        \n",
            "        ***        \n",
            "        ***        \n",
            "        ***        \n",
            "        ***        \n"
          ]
        }
      ]
    },
    {
      "cell_type": "code",
      "source": [
        "def calculate_bmi(weight_kg, height_m):\n",
        "    try:\n",
        "        weight_kg = float(input(\"請輸入體重（kg)：\"))\n",
        "        height_m = float(input(\"請輸入身高（m）：\"))\n",
        "        if weight_kg <= 0 or height_m <= 0:\n",
        "            raise ValueError(\"身高體重大於0\")\n",
        "        bmi = weight_kg / (height_m ** 2)\n",
        "\n",
        "        if bmi < 18.5:\n",
        "            bmi_interpretation = \"過輕\"\n",
        "        elif 18.5 <= bmi < 24:\n",
        "            bmi_interpretation = \"適中\"\n",
        "        elif 24 <= bmi < 27:\n",
        "            bmi_interpretation = \"過重\"\n",
        "        else:\n",
        "            bmi_interpretation = \"肥胖\"\n",
        "\n",
        "        return bmi, bmi_interpretation\n",
        "\n",
        "    except ValueError as e:\n",
        "        return None, str(e)\n",
        "\n",
        "def calculate_and_interpret_bmi(weight, height):\n",
        "    bmi, interpretation = calculate_bmi(weight, height)\n",
        "\n",
        "    if bmi is not None:\n",
        "        return \"BMI值為: {:.2f}  體位: {}\".format(bmi, interpretation)\n",
        "    else:\n",
        "        return \"輸入無效\"\n",
        "\n",
        "calculate_and_interpret_bmi(weight, height)"
      ],
      "metadata": {
        "colab": {
          "base_uri": "https://localhost:8080/",
          "height": 71
        },
        "id": "bTvI1j969GNA",
        "outputId": "666c1521-57fb-43f2-ba4a-0a7b6674c5d0"
      },
      "execution_count": 28,
      "outputs": [
        {
          "name": "stdout",
          "output_type": "stream",
          "text": [
            "請輸入體重（kg)：65\n",
            "請輸入身高（m）：iloveu\n"
          ]
        },
        {
          "output_type": "execute_result",
          "data": {
            "text/plain": [
              "'輸入無效'"
            ],
            "application/vnd.google.colaboratory.intrinsic+json": {
              "type": "string"
            }
          },
          "metadata": {},
          "execution_count": 28
        }
      ]
    }
  ]
}