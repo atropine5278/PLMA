{
  "nbformat": 4,
  "nbformat_minor": 0,
  "metadata": {
    "colab": {
      "provenance": []
    },
    "kernelspec": {
      "name": "python3",
      "display_name": "Python 3"
    },
    "language_info": {
      "name": "python"
    }
  },
  "cells": [
    {
      "cell_type": "code",
      "execution_count": 12,
      "metadata": {
        "colab": {
          "base_uri": "https://localhost:8080/"
        },
        "id": "9DDvIBQrjb39",
        "outputId": "4d5ef7de-223d-42f5-8325-6cecf65b393c"
      },
      "outputs": [
        {
          "output_type": "stream",
          "name": "stdout",
          "text": [
            "請輸入一個正整數: 90\n",
            "90 不是質數，最接近的質數是 89\n"
          ]
        }
      ],
      "source": [
        "def is_prime(num):\n",
        "    if num <= 1:\n",
        "        return False\n",
        "    if num == 2:\n",
        "        return True\n",
        "    if num % 2 == 0:\n",
        "        return False\n",
        "    for i in range(3, int(num**0.5) + 1, 2):\n",
        "        if num % i == 0:\n",
        "            return False\n",
        "    return True\n",
        "\n",
        "def find_closest_prime(num):\n",
        "    if num <= 0:\n",
        "        return \"請輸入大於0的正整數\"\n",
        "\n",
        "    if is_prime(num):\n",
        "        return f\"{num} 是質數\"\n",
        "\n",
        "    lower_prime = num - 1\n",
        "    while not is_prime(lower_prime):\n",
        "        lower_prime -= 1\n",
        "\n",
        "    return f\"{num} 不是質數，最接近的質數是 {lower_prime}\"\n",
        "\n",
        "try:\n",
        "    num = int(input(\"請輸入一個正整數: \"))\n",
        "    result = find_closest_prime(num)\n",
        "    print(result)\n",
        "except ValueError:\n",
        "    print(\"請輸入有效的整數\")\n"
      ]
    },
    {
      "cell_type": "code",
      "source": [
        "m = input(\"請輸入一列數字，每個數字間請用逗號隔開: \")\n",
        "b = [int(num) for num in m.split(',')]\n",
        "\n",
        "\n",
        "a = []\n",
        "\n",
        "\n",
        "for i in range(len(b)):\n",
        "    count = sum(1 for num in b if num < b[i])\n",
        "    a.append(count)\n",
        "\n",
        "\n",
        "print(\"每個數字小於它的數量:\", a)"
      ],
      "metadata": {
        "colab": {
          "base_uri": "https://localhost:8080/"
        },
        "id": "vFVMDZVxqLs9",
        "outputId": "1d387d7d-824d-4151-db7b-03e80246eab2"
      },
      "execution_count": 15,
      "outputs": [
        {
          "output_type": "stream",
          "name": "stdout",
          "text": [
            "請輸入一列數字，每個數字間請用逗號隔開: 9,6,8,5,3\n",
            "每個數字小於它的數量: [4, 2, 3, 1, 0]\n"
          ]
        }
      ]
    },
    {
      "cell_type": "code",
      "source": [
        "c = input(\"請輸入由0和1组成的字串: \")\n",
        "\n",
        "\n",
        "g = [int(char) for char in c]\n",
        "\n",
        "\n",
        "u = []\n",
        "\n",
        "\n",
        "for i in range(len(g)):\n",
        "    moves = 0\n",
        "    for j in range(len(g)):\n",
        "        if g[j] == 1:\n",
        "            moves += abs(j - i)\n",
        "    u.append(moves)\n",
        "\n",
        "\n",
        "print(\"將每個球移動到每個盒子所需的最少移動次數:\", u)"
      ],
      "metadata": {
        "colab": {
          "base_uri": "https://localhost:8080/"
        },
        "id": "0aS2QKvrqB0o",
        "outputId": "483e025c-698f-4208-f33d-935dc0f96ae9"
      },
      "execution_count": 16,
      "outputs": [
        {
          "output_type": "stream",
          "name": "stdout",
          "text": [
            "請輸入由0和1组成的字串: 0111100\n",
            "將每個球移動到每個盒子所需的最少移動次數: [10, 6, 4, 4, 6, 10, 14]\n"
          ]
        }
      ]
    }
  ]
}